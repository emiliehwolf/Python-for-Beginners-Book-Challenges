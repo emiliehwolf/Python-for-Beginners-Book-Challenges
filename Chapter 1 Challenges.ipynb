{
 "cells": [
  {
   "cell_type": "markdown",
   "id": "e9cd6f11",
   "metadata": {},
   "source": [
    "# 1. Create an error of your very own by entering your favorite ice cream flavor in interactive mode. Then, make up for your misdeed and enter a statement that prints the name of your favorite ice cream."
   ]
  },
  {
   "cell_type": "code",
   "execution_count": 1,
   "id": "0f706258",
   "metadata": {},
   "outputs": [
    {
     "ename": "NameError",
     "evalue": "name 'chocolate' is not defined",
     "output_type": "error",
     "traceback": [
      "\u001b[1;31m---------------------------------------------------------------------------\u001b[0m",
      "\u001b[1;31mNameError\u001b[0m                                 Traceback (most recent call last)",
      "\u001b[1;32m<ipython-input-1-4d5b80b7a8c9>\u001b[0m in \u001b[0;36m<module>\u001b[1;34m\u001b[0m\n\u001b[1;32m----> 1\u001b[1;33m \u001b[0mchocolate\u001b[0m\u001b[1;33m\u001b[0m\u001b[1;33m\u001b[0m\u001b[0m\n\u001b[0m",
      "\u001b[1;31mNameError\u001b[0m: name 'chocolate' is not defined"
     ]
    }
   ],
   "source": [
    "chocolate"
   ]
  },
  {
   "cell_type": "code",
   "execution_count": 2,
   "id": "28e2a37f",
   "metadata": {},
   "outputs": [
    {
     "name": "stdout",
     "output_type": "stream",
     "text": [
      "chocolate\n"
     ]
    }
   ],
   "source": [
    "print(\"chocolate\")"
   ]
  },
  {
   "cell_type": "markdown",
   "id": "c9535b4f",
   "metadata": {},
   "source": [
    "# 2. Write and save a program that prints out your name and waits for the user to press the Enter key before the program ends. Then, run the program by double-clicking its icon."
   ]
  },
  {
   "cell_type": "code",
   "execution_count": 4,
   "id": "48f824bc",
   "metadata": {},
   "outputs": [
    {
     "name": "stdout",
     "output_type": "stream",
     "text": [
      "Hello, Emilie!\n",
      "Press any key to exit.a\n"
     ]
    },
    {
     "data": {
      "text/plain": [
       "'a'"
      ]
     },
     "execution_count": 4,
     "metadata": {},
     "output_type": "execute_result"
    }
   ],
   "source": [
    "# Emilie Helen Wolf\n",
    "# July 29, 2021\n",
    "# See HelloEmilie.py\n",
    "# You have to install the official Python installer to be able to double-click the .py file.\n",
    "# I tried using Anaconda, but it did not work.\n",
    "\n",
    "print(\"Hello, Emilie!\")\n",
    "input(\"Press any key to exit.\")"
   ]
  },
  {
   "cell_type": "markdown",
   "id": "b50148c2",
   "metadata": {},
   "source": [
    "# 3. Write a program that prints your favorite quote. It should give credit to the person who said it on the next line."
   ]
  },
  {
   "cell_type": "code",
   "execution_count": null,
   "id": "b1c83877",
   "metadata": {},
   "outputs": [],
   "source": [
    "# PrintFavoriteQuote.py\n",
    "\n",
    "# Emilie Helen Wolf\n",
    "# July 29, 2021\n",
    "\n",
    "print(\"\"\"\n",
    "      My Favorite Quote\n",
    "      \n",
    "\"If it makes you happy, it doesn't have to make sense to anyone else.\"\n",
    "                        \n",
    "                        ~ Unknown\n",
    "\"\"\")\n",
    "\n",
    "input(\"Press any key to exit.\")"
   ]
  },
  {
   "cell_type": "markdown",
   "id": "76eabe51",
   "metadata": {},
   "source": [
    "### Chapter 1 goes over installing Python, creating and editing .py files, print and input commands, and commenting,"
   ]
  },
  {
   "cell_type": "code",
   "execution_count": null,
   "id": "1ce72ec7",
   "metadata": {},
   "outputs": [],
   "source": []
  }
 ],
 "metadata": {
  "kernelspec": {
   "display_name": "Python 3",
   "language": "python",
   "name": "python3"
  },
  "language_info": {
   "codemirror_mode": {
    "name": "ipython",
    "version": 3
   },
   "file_extension": ".py",
   "mimetype": "text/x-python",
   "name": "python",
   "nbconvert_exporter": "python",
   "pygments_lexer": "ipython3",
   "version": "3.8.8"
  }
 },
 "nbformat": 4,
 "nbformat_minor": 5
}
