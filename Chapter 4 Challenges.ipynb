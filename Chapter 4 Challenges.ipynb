{
 "cells": [
  {
   "cell_type": "markdown",
   "id": "da736a43",
   "metadata": {},
   "source": [
    "# Chapter 4 Challenges\n",
    "\n",
    "## 1. Write a program that counts for the user. Let the user enter the starting number, the ending number, and the amount by which to count."
   ]
  },
  {
   "cell_type": "code",
   "execution_count": 4,
   "id": "132cf4da",
   "metadata": {},
   "outputs": [
    {
     "name": "stdout",
     "output_type": "stream",
     "text": [
      "\tCounting Program\n",
      "Enter the starting number:-100\n",
      "Enter the ending number:101\n",
      "Enter the amount by which to count:7\n",
      "-100 -93 -86 -79 -72 -65 -58 -51 -44 -37 -30 -23 -16 -9 -2 5 12 19 26 33 40 47 54 61 68 75 82 89 96 "
     ]
    }
   ],
   "source": [
    "# Counting Program\n",
    "# July 7, 2021\n",
    "# Author: Emilie Helen Wolf\n",
    "\n",
    "print(\"\\tCounting Program\")\n",
    "\n",
    "start = int(input(\"Enter the starting number:\"))\n",
    "stop = int(input(\"Enter the ending number:\"))\n",
    "step = int(input(\"Enter the amount by which to count:\"))\n",
    "\n",
    "for i in range(start,stop,step):\n",
    "    print(i, end=\" \")"
   ]
  },
  {
   "cell_type": "markdown",
   "id": "02744ce2",
   "metadata": {},
   "source": [
    "## 2. Create a program that gets a message from the user and then prints it out backwards."
   ]
  },
  {
   "cell_type": "code",
   "execution_count": 6,
   "id": "c4bf7447",
   "metadata": {},
   "outputs": [
    {
     "name": "stdout",
     "output_type": "stream",
     "text": [
      "Enter a message:Can I get two hotdogs please?\n",
      "\n",
      "Your message printed backwards is:\n",
      "?esaelp sgodtoh owt teg I naC\n"
     ]
    }
   ],
   "source": [
    "# Print a message backwards\n",
    "# July 7, 2021\n",
    "# Author: Emilie Helen Wolf\n",
    "\n",
    "message = input(\"Enter a message:\")\n",
    "\n",
    "print(\"\\nYour message printed backwards is:\")\n",
    "print(message[::-1])"
   ]
  },
  {
   "cell_type": "markdown",
   "id": "7570c3c2",
   "metadata": {},
   "source": [
    "## 3. Improve \"Word Jumble\" so that each word is paired with a hint. The player should be able to see the hint if he or she is stuck. Add a scoring system that rewards players who solve a jumble without asking for the hint."
   ]
  },
  {
   "cell_type": "code",
   "execution_count": 12,
   "id": "4ade4b3a",
   "metadata": {},
   "outputs": [
    {
     "name": "stdout",
     "output_type": "stream",
     "text": [
      "\n",
      "           Welcome to Word Jumble!\n",
      "        \n",
      "   Unscramble the letters to make a word.\n",
      "   You start with as many points as there are letters in the word.\n",
      "   You lose points every wrong guess.\n",
      "   You lose even more points if you use a hint.\n",
      "   Type \"hint\" at any time for a hint!\n",
      "\n",
      "The jumble is: lyurberbe and you're starting off with 9 points.\n",
      "\n",
      "Your guess: hint\n",
      "The word starts with: b and ends with y and you lose 2 points.\n",
      "Your guess: blueberry\n",
      "\n",
      "\n",
      "That's it!  You guessed it!\n",
      "\n",
      "Your score is: 7\n",
      "Thanks for playing.\n"
     ]
    }
   ],
   "source": [
    "# Word Jumble with Hints\n",
    "# July 7, 2021\n",
    "# Author: Emilie Helen Wolf\n",
    "\n",
    "import random\n",
    "\n",
    "# create a sequence of words to choose from\n",
    "WORDS = (\"python\", \"jumble\", \"easy\", \"difficult\", \"answer\", \"xylophone\", \"medium\", \"abyss\", \"dictionary\", \"blueberry\")\n",
    "\n",
    "# pick one word randomly from the sequence\n",
    "word = random.choice(WORDS)\n",
    "\n",
    "# create a variable to use later to see if the guess is correct\n",
    "correct = word\n",
    "\n",
    "# create a jumbled version of the word\n",
    "jumble =\"\"\n",
    "while word:\n",
    "    position = random.randrange(len(word))  # a random index position is chosen from the length of word\n",
    "    jumble += word[position]                # the string 'jumble' gets appended with the word character at position index   \n",
    "    word = word[:position] + word[(position + 1):]  # the word is sliced at the position and reassembled, length shorter by one\n",
    "\n",
    "# start the game\n",
    "print(\n",
    "\"\"\"\n",
    "           Welcome to Word Jumble!\n",
    "        \n",
    "   Unscramble the letters to make a word.\n",
    "   You start with as many points as there are letters in the word.\n",
    "   You lose points every wrong guess.\n",
    "   You lose even more points if you use a hint.\n",
    "   Type \"hint\" at any time for a hint!\n",
    "\"\"\"\n",
    ")\n",
    "\n",
    "# The score of he word is worh he number of letters in the word\n",
    "score = len(jumble)\n",
    "\n",
    "print(\"The jumble is:\", jumble, \"and you're starting off with\",score,\"points.\")\n",
    "\n",
    "# Ask the user to guess he jumbled word\n",
    "guess = input(\"\\nYour guess: \")\n",
    "\n",
    "# incorrect guesses promt the loop to continue, empty strings exit the game\n",
    "while guess != correct and guess != \"\":\n",
    "\n",
    "    if guess == \"hint\":\n",
    "        print(\"The word starts with:\",correct[0],\"and ends with\",correct[-1],\"and you lose 2 points.\")\n",
    "        score -= 2\n",
    "        guess = input(\"Your guess: \")\n",
    "    else:\n",
    "        print(\"Sorry, that's not it. You lose 1 point.\")\n",
    "        score -= 1\n",
    "        guess = input(\"Your guess: \")\n",
    "    \n",
    "    \n",
    "if guess == correct:\n",
    "    print(\"\\n\\nThat's it!  You guessed it!\\n\")\n",
    "    print(\"Your score is:\",score)\n",
    "\n",
    "print(\"Thanks for playing.\")\n"
   ]
  },
  {
   "cell_type": "markdown",
   "id": "fcfc66c9",
   "metadata": {},
   "source": [
    "## 4. Create a game where the computer picks a random word and the player has to guess that word. The computer tells the player how many letters are in the word. Then the player gets five chances to ask if a letter is in the word. The computer can only respond with \"yes\" or \"no\". Then, the player must guess the word."
   ]
  },
  {
   "cell_type": "code",
   "execution_count": 15,
   "id": "f56b9f16",
   "metadata": {},
   "outputs": [
    {
     "name": "stdout",
     "output_type": "stream",
     "text": [
      "\n",
      "            Word Guess!!!\n",
      "    Guess the letters in the word (you get 5 chances),\n",
      "    and then guess the word!\n",
      "\n",
      "\n",
      "The computer chooses a word. It has 4 letters.\n",
      "\n",
      "Guess a letter:e\n",
      "You ask the computer if e is in the word.\n",
      "The computer says: Yes.\n",
      "\n",
      "Guess a letter:a\n",
      "You ask the computer if a is in the word.\n",
      "The computer says: Yes.\n",
      "\n",
      "Guess a letter:s\n",
      "You ask the computer if s is in the word.\n",
      "The computer says: Yes.\n",
      "\n",
      "Guess a letter:y\n",
      "You ask the computer if y is in the word.\n",
      "The computer says: Yes.\n",
      "\n",
      "Guess a letter:easy\n",
      "You ask the computer if easy is in the word.\n",
      "The computer says: Yes.\n",
      "\n",
      "Now guess the word! You have one guess! Remember, the word has 4 letters.\n",
      "easy\n",
      "You guessed correctly!\n"
     ]
    }
   ],
   "source": [
    "# Word Guess\n",
    "# July 7, 2021\n",
    "# Author: Emilie Helen Wolf\n",
    "\n",
    "import random\n",
    "\n",
    "# create a sequence of words to choose from\n",
    "WORDS = (\"python\", \"jumble\", \"easy\", \"answer\", \"medium\", \"abyss\", \"android\", \"science\")\n",
    "# pick one word randomly from the sequence\n",
    "word = random.choice(WORDS)\n",
    "\n",
    "print(\n",
    "\"\"\"\n",
    "            Word Guess!!!\n",
    "    Guess the letters in the word (you get 5 chances),\n",
    "    and then guess the word!\n",
    "\n",
    "\"\"\")\n",
    "\n",
    "print(\"The computer chooses a word. It has\",len(word),\"letters.\")\n",
    "\n",
    "for i in range(5):\n",
    "    letter = input(\"\\nGuess a letter:\")\n",
    "    print(\"You ask the computer if\",letter,\"is in the word.\")\n",
    "    print(\"The computer says:\",end=\" \")\n",
    "    if letter in word:\n",
    "        print(\"Yes.\")\n",
    "    else:\n",
    "        print(\"No.\")\n",
    "        \n",
    "print(\"\\nNow guess the word! You have one guess! Remember, the word has\",len(word),\"letters.\")\n",
    "\n",
    "guess = input()\n",
    "\n",
    "if guess == word:\n",
    "    print(\"You guessed correctly!\")\n",
    "else:\n",
    "    print(\"Sorry, you guessed wrong. The word was:\",word)"
   ]
  },
  {
   "cell_type": "code",
   "execution_count": null,
   "id": "f1af11df",
   "metadata": {},
   "outputs": [],
   "source": []
  }
 ],
 "metadata": {
  "kernelspec": {
   "display_name": "Python 3",
   "language": "python",
   "name": "python3"
  },
  "language_info": {
   "codemirror_mode": {
    "name": "ipython",
    "version": 3
   },
   "file_extension": ".py",
   "mimetype": "text/x-python",
   "name": "python",
   "nbconvert_exporter": "python",
   "pygments_lexer": "ipython3",
   "version": "3.8.8"
  }
 },
 "nbformat": 4,
 "nbformat_minor": 5
}
