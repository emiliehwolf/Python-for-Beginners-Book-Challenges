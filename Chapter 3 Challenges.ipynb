{
 "cells": [
  {
   "cell_type": "markdown",
   "id": "2dc6adab",
   "metadata": {},
   "source": [
    "# Chapter 3 Challenges\n",
    "\n",
    "## 1. Write a program that simulates a fortune cookie. The program should display one of five unique fortunes, at random, each time it's run."
   ]
  },
  {
   "cell_type": "code",
   "execution_count": 25,
   "id": "473a48fb",
   "metadata": {},
   "outputs": [
    {
     "name": "stdout",
     "output_type": "stream",
     "text": [
      "\tFortune Cookie!!!\n",
      "The fastest way to finish is to start.\n"
     ]
    }
   ],
   "source": [
    "# Fortune Cookie Program\n",
    "# July 4th, 2021\n",
    "# Author: Emilie Helen Wolf\n",
    "\n",
    "import random\n",
    "\n",
    "fortunes = [\"Man who sit on toilet is high on pot.\",\n",
    "           \"The fastest way to finish is to start.\",\n",
    "           \"Every person on earth gets the same 24 hours in a day.\",\n",
    "           \"Make new friends, but keep the old. One is silver and the other's gold.\",\n",
    "           \"Every rose has its thorn.\"]\n",
    "\n",
    "print(\"\\tFortune Cookie!!!\")\n",
    "\n",
    "print(fortunes[random.randrange(5)])"
   ]
  },
  {
   "cell_type": "markdown",
   "id": "499fef5b",
   "metadata": {},
   "source": [
    "## 2. Write a program that flips a coin 100 times and then tells you the number of heads and tails."
   ]
  },
  {
   "cell_type": "code",
   "execution_count": 54,
   "id": "95f4abcd",
   "metadata": {},
   "outputs": [
    {
     "name": "stdout",
     "output_type": "stream",
     "text": [
      "After flipping a coin 100 times...\n",
      "Number of heads: 51\n",
      "Number of tails: 49\n"
     ]
    }
   ],
   "source": [
    "# Summary of 100 coin flips\n",
    "# July 4th, 2021\n",
    "# Author: Emilie Helen Wolf\n",
    "\n",
    "import random\n",
    "\n",
    "counthead = 0\n",
    "counttail = 0\n",
    "\n",
    "for i in range(100):\n",
    "    flip = random.randint(1,2)\n",
    "    \n",
    "    if(flip == 1):\n",
    "        counthead += 1\n",
    "        \n",
    "    if(flip == 2):\n",
    "        counttail += 1\n",
    "\n",
    "print(\"After flipping a coin 100 times...\")\n",
    "print(\"Number of heads:\", counthead)\n",
    "print(\"Number of tails:\", counttail)"
   ]
  },
  {
   "cell_type": "markdown",
   "id": "8772032d",
   "metadata": {},
   "source": [
    "## 3. Modify the Guess My Number game so that the player has a limited number of guesses. If the player fails to guess in time, the program should display an appropriately chastising message."
   ]
  },
  {
   "cell_type": "code",
   "execution_count": 63,
   "id": "13e685fe",
   "metadata": {},
   "outputs": [
    {
     "name": "stdout",
     "output_type": "stream",
     "text": [
      "\tWelcome to 'Guess My Number'!\n",
      "\n",
      "I'm thinking of a number between 1 and 100.\n",
      "Try to guess it in 5 attempts or less.\n",
      "\n",
      "Take a guess: 50\n",
      "Lower...\n",
      "Take a guess: 25\n",
      "Higher...\n",
      "Take a guess: 37\n",
      "Higher...\n",
      "Take a guess: 43\n",
      "Lower...\n",
      "Take a guess: 42\n",
      "\n",
      "You suck. The number was 39\n",
      "Try again.\n"
     ]
    }
   ],
   "source": [
    "# Guess My Number\n",
    "#\n",
    "# The computer picks a random number between 1 and 100\n",
    "# The player tries to guess it and the computer lets\n",
    "# the player know if the guess is too high, too low\n",
    "# or right on the money\n",
    "\n",
    "import random  \n",
    "\n",
    "print(\"\\tWelcome to 'Guess My Number'!\")\n",
    "print(\"\\nI'm thinking of a number between 1 and 100.\")\n",
    "print(\"Try to guess it in 5 attempts or less.\\n\")\n",
    "\n",
    "# set the initial values\n",
    "the_number = random.randint(1, 100)\n",
    "guess = int(input(\"Take a guess: \"))\n",
    "tries = 1\n",
    "\n",
    "# guessing loop\n",
    "while guess != the_number and tries < 5:\n",
    "    if guess > the_number:\n",
    "        print(\"Lower...\")\n",
    "    else:\n",
    "        print(\"Higher...\")\n",
    "            \n",
    "    guess = int(input(\"Take a guess: \"))\n",
    "    tries += 1\n",
    "\n",
    "print()\n",
    "\n",
    "if guess == the_number:\n",
    "    print(\"You guessed it!  The number was\", the_number)\n",
    "    print(\"And it only took you\", tries, \"tries!\\n\")\n",
    "else:\n",
    "    print(\"You suck. The number was\", the_number)\n",
    "    print(\"Try again.\")\n",
    "    "
   ]
  },
  {
   "cell_type": "markdown",
   "id": "8809de72",
   "metadata": {},
   "source": [
    "# 4. Here's a bigger challenge. Write the pseudocode for a program where the player and the computer trade places in the number guessing game. That is, the player picks a random number between 1 and 100 that the computer has to guess. Before you start, think about how you guess. If all goes well, try coding the game."
   ]
  },
  {
   "cell_type": "markdown",
   "id": "707d20e2",
   "metadata": {},
   "source": [
    "- Ask the user to pick a number between 1 and 100\n",
    "- Use a while loop to make sure the user is choosing a number within range\n",
    "\n",
    "- Ask the computer to guess\n",
    "- The computer randomly picks a number between 1 and 100\n",
    "- The user tells the computer if the actual number is higher or lower\n",
    "- The computer then picks a random number within the new range (depending on higher and lower)\n",
    "- Repeat\n",
    "\n",
    "- Once the computer guesses the number correctly, they are congratulated and told how many tries it took"
   ]
  },
  {
   "cell_type": "code",
   "execution_count": 72,
   "id": "eaac6762",
   "metadata": {},
   "outputs": [
    {
     "name": "stdout",
     "output_type": "stream",
     "text": [
      "\tGuessing Game!!!\n",
      "Enter a number between 1 and 100 for the computer to guess.48\n",
      "The computer guesses 24\n",
      "Is your number higher or lower? H/LH\n",
      "New low number is 25\n",
      "The computer guesses 60\n",
      "Is your number higher or lower? H/LL\n",
      "New high number is 59\n",
      "The computer guesses 29\n",
      "Is your number higher or lower? H/LH\n",
      "New low number is 30\n",
      "The computer guesses 54\n",
      "Is your number higher or lower? H/LL\n",
      "New high number is 53\n",
      "The computer guesses 33\n",
      "Is your number higher or lower? H/LH\n",
      "New low number is 34\n",
      "The computer guesses 41\n",
      "Is your number higher or lower? H/LH\n",
      "New low number is 42\n",
      "The computer guesses 50\n",
      "Is your number higher or lower? H/LL\n",
      "New high number is 49\n",
      "The computer guessed your number! 48\n",
      "It only took 8 tries.\n"
     ]
    }
   ],
   "source": [
    "# Pick a number and let the computer guess it!\n",
    "# July 4th, 2021\n",
    "# Author: Emilie Helen Wolf\n",
    "\n",
    "import random\n",
    "\n",
    "print(\"\\tGuessing Game!!!\")\n",
    "the_num = 0\n",
    "\n",
    "# a while loop to make sure the user picks a number between 1 and 100\n",
    "while the_num < 1 or the_num > 100:\n",
    "    the_num = int(input(\"Enter a number between 1 and 100 for the computer to guess.\"))\n",
    "\n",
    "attempts = 1\n",
    "lownum = 1\n",
    "highnum = 100\n",
    "guess = random.randint(1,100)\n",
    "\n",
    "# guessing loop\n",
    "while guess != the_num:\n",
    "    \n",
    "    print(\"The computer guesses\", guess)\n",
    "    highlow = input(\"Is your number higher or lower? H/L\")\n",
    "\n",
    "    if highlow == \"H\":\n",
    "        lownum = guess+1    # If the number is higher, the last guess becomes the lower limit for the next guessing range\n",
    "        guess = random.randint(guess,highnum)\n",
    "        # A better guess would be to pick a number that is halfway between guess and highnum\n",
    "        \n",
    "    if highlow == \"L\":\n",
    "        highnum = guess-1   # If the number is lower, the last guess becomes the upper limit for the next guessing range\n",
    "        guess = random.randint(lownum,guess)\n",
    "        \n",
    "    attempts += 1\n",
    "\n",
    "print(\"The computer guessed your number!\", guess)\n",
    "print(\"It only took\", attempts,\"tries.\")\n",
    "\n"
   ]
  }
 ],
 "metadata": {
  "kernelspec": {
   "display_name": "Python 3",
   "language": "python",
   "name": "python3"
  },
  "language_info": {
   "codemirror_mode": {
    "name": "ipython",
    "version": 3
   },
   "file_extension": ".py",
   "mimetype": "text/x-python",
   "name": "python",
   "nbconvert_exporter": "python",
   "pygments_lexer": "ipython3",
   "version": "3.8.8"
  }
 },
 "nbformat": 4,
 "nbformat_minor": 5
}
