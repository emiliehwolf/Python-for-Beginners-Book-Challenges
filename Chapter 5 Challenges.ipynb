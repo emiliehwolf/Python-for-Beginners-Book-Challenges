{
 "cells": [
  {
   "cell_type": "markdown",
   "id": "ed59ab56",
   "metadata": {},
   "source": [
    "# Chapter 5 Challenges\n",
    "\n",
    "## 1. Create a program that prints a list of words in random order. The program should print all the words and not repeat any."
   ]
  },
  {
   "cell_type": "code",
   "execution_count": 20,
   "id": "bce0cc08",
   "metadata": {},
   "outputs": [
    {
     "name": "stdout",
     "output_type": "stream",
     "text": [
      "The original word list is: ['pizza', 'rose', 'spaghetti', 'curls', 'Taco Bell', 'notebook', 'ice cream']\n",
      "The randomized list is now: ['pizza', 'notebook', 'rose', 'Taco Bell', 'spaghetti', 'ice cream', 'curls']\n"
     ]
    }
   ],
   "source": [
    "# Randomized List of Words\n",
    "# Author: Emilie Helen Wolf\n",
    "# Date: July 13, 2021\n",
    "\n",
    "import random\n",
    "\n",
    "words = ['pizza','rose','spaghetti','curls','Taco Bell','notebook','ice cream']\n",
    "\n",
    "print(\"The original word list is:\",words)\n",
    "\n",
    "#Create an empty list\n",
    "rwords = [] \n",
    "\n",
    "#Iterate over the length of the original list\n",
    "for i in range(len(words)):\n",
    "    \n",
    "    #Pop out random list element (between 0 and length of list) and append to the new randomized list\n",
    "    #When popped, the original list decreases in size by 1, so next time the range is smaller\n",
    "    rwords.append(words.pop(random.randrange(len(words))))\n",
    "\n",
    "print(\"The randomized list is now:\",rwords)"
   ]
  },
  {
   "cell_type": "code",
   "execution_count": null,
   "id": "b8f06c80",
   "metadata": {},
   "outputs": [],
   "source": []
  }
 ],
 "metadata": {
  "kernelspec": {
   "display_name": "Python 3",
   "language": "python",
   "name": "python3"
  },
  "language_info": {
   "codemirror_mode": {
    "name": "ipython",
    "version": 3
   },
   "file_extension": ".py",
   "mimetype": "text/x-python",
   "name": "python",
   "nbconvert_exporter": "python",
   "pygments_lexer": "ipython3",
   "version": "3.8.8"
  }
 },
 "nbformat": 4,
 "nbformat_minor": 5
}
