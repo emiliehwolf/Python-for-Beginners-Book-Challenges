{
 "cells": [
  {
   "cell_type": "markdown",
   "id": "d63fd0c5",
   "metadata": {},
   "source": [
    "### Chapter 2 - Types, Variables, and Simple I/O\n",
    "\n",
    "Also includes variable naming conventions, escape sequences, math operators, string methods, data type conversion,and concatenation."
   ]
  },
  {
   "cell_type": "markdown",
   "id": "ecc410d7",
   "metadata": {},
   "source": [
    "## 1. Create a list of legal and illegal variable names. Describe why each is either legal or illegal. Next, create a list of \"good\" and \"bad\" legal variable names. Describe why each is either a good or bad choice for variable name."
   ]
  },
  {
   "cell_type": "code",
   "execution_count": 19,
   "id": "1009a0d6",
   "metadata": {},
   "outputs": [],
   "source": [
    "# RULES\n",
    "# 1. A variable can only contain numbers, letters, and underscores\n",
    "# 2. A variable name cannot start with a number\n",
    "\n",
    "# Illegal variables\n",
    "# my-string = \"Test\"\n",
    "# my$list = []          # Use Ctrl+/ to comment out multiple highlighted lines!\n",
    "# 777num = 0\n",
    "# ad^ct = {}\n",
    "\n",
    "# Legal variables, but bad, because vague and not following conventions\n",
    "x_y_z_a_b_c = []\n",
    "_mylist = []\n",
    "b344___ = \"\"\n",
    "\n",
    "# Great names are descriptive, start with letters only, and aren't too long\n",
    "chk_acct = []\n",
    "quotes1 = \"\"\n",
    "quotes2 = \"\"\n"
   ]
  }
 ],
 "metadata": {
  "kernelspec": {
   "display_name": "Python 3",
   "language": "python",
   "name": "python3"
  },
  "language_info": {
   "codemirror_mode": {
    "name": "ipython",
    "version": 3
   },
   "file_extension": ".py",
   "mimetype": "text/x-python",
   "name": "python",
   "nbconvert_exporter": "python",
   "pygments_lexer": "ipython3",
   "version": "3.8.8"
  }
 },
 "nbformat": 4,
 "nbformat_minor": 5
}
