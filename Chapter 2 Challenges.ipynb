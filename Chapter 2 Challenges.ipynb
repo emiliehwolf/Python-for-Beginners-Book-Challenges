{
 "cells": [
  {
   "cell_type": "markdown",
   "id": "a15772ab",
   "metadata": {},
   "source": [
    "### Chapter 2 - Types, Variables, and Simple I/O\n",
    "\n",
    "Also includes variable naming conventions, escape sequences, math operators, string methods, data type conversion,and concatenation."
   ]
  },
  {
   "cell_type": "markdown",
   "id": "d56c30e1",
   "metadata": {},
   "source": [
    "## 1. Create a list of legal and illegal variable names. Describe why each is either legal or illegal. Next, create a list of \"good\" and \"bad\" legal variable names. Describe why each is either a good or bad choice for variable name."
   ]
  },
  {
   "cell_type": "code",
   "execution_count": null,
   "id": "6d553f18",
   "metadata": {},
   "outputs": [],
   "source": [
    "# RULES\n",
    "# 1. A variable can only contain numbers, letters, and underscores\n",
    "# 2. A variable name cannot start with a number\n",
    "\n",
    "# Illegal variables\n",
    "# my-string = \"Test\"\n",
    "# my$list = []          # Use Ctrl+/ to comment out multiple highlighted lines!\n",
    "# 777num = 0\n",
    "# ad^ct = {}\n",
    "\n",
    "# Legal variables, but bad, because vague and not following conventions\n",
    "x_y_z_a_b_c = []\n",
    "_mylist = []\n",
    "b344___ = \"\"\n",
    "\n",
    "# Great names are descriptive, start with letters only, and aren't too long\n",
    "chk_acct = []\n",
    "quotes1 = \"\"\n",
    "quotes2 = \"\"\n"
   ]
  },
  {
   "cell_type": "markdown",
   "id": "03fca072",
   "metadata": {},
   "source": [
    "# 2. Write a program that allows a user to enter his or her two favorite foods. The program should then print out the name of a new food by joining the orginal food names together."
   ]
  },
  {
   "cell_type": "code",
   "execution_count": 1,
   "id": "07f14334",
   "metadata": {},
   "outputs": [
    {
     "name": "stdout",
     "output_type": "stream",
     "text": [
      "What is your favorite food?turtle\n",
      "\n",
      "Now name your second favorite food:salmon\n",
      "\n",
      "\n",
      "\n",
      "Your new favorite food is TURTLESALMON\n"
     ]
    }
   ],
   "source": [
    "# Concatenate two strings\n",
    "# Emilie Helen Wolf\n",
    "# July 29, 2021\n",
    "\n",
    "food1 = input(\"What is your favorite food?\")\n",
    "food2 = input(\"\\nNow name your second favorite food:\")\n",
    "\n",
    "\n",
    "\n",
    "print(\"\\n\\n\\nYour new favorite food is \"+(food1+food2).replace(\" \",\"\").upper())"
   ]
  },
  {
   "cell_type": "markdown",
   "id": "5767209b",
   "metadata": {},
   "source": [
    "# 3. Write a Tipper program where the user enters a restaurant bill total. The program should then display two amounts: a 15 percent tip and a 20 percent tip."
   ]
  },
  {
   "cell_type": "code",
   "execution_count": 4,
   "id": "df4426c0",
   "metadata": {},
   "outputs": [
    {
     "name": "stdout",
     "output_type": "stream",
     "text": [
      "Enter the amount of the restaurant bill: $104.54\n",
      "\n",
      "\n",
      "Tip Calculator for $104.54\n",
      "\n",
      "15% \t$15.68\n",
      "20% \t$20.91\n",
      "25% \t$26.14\n",
      "Another test\n",
      "104.54\n"
     ]
    }
   ],
   "source": [
    "# Print the tip amounds of a bill\n",
    "\n",
    "# Emilie Helen Wolf\n",
    "# July 29, 2021\n",
    "\n",
    "\n",
    "# This while loop collects input from the user and re-prompts the user if there is an error\n",
    "while True:\n",
    "    try:\n",
    "        total = float(input(\"Enter the amount of the restaurant bill: $\"))\n",
    "    except:\n",
    "        print(\"\\nThat was an invalid amount. Please try again.\\n\")\n",
    "        continue\n",
    "    else:\n",
    "        break\n",
    "    \n",
    "# There is formatting here to change the floats into currency (commas every 1000 and rounded to two decimal places)   \n",
    "print(\"\\n\\nTip Calculator for ${:,.2f}\".format(total))\n",
    "print()\n",
    "print(\"15% \\t${:,.2f}\".format(total*.15))\n",
    "print(\"20% \\t${:,.2f}\".format(total*.2))\n",
    "print(\"25% \\t${:,.2f}\".format(total*.25))\n",
    "\n",
    "\n",
    "\n",
    "# If you don't use formatting, a print statement can't print a string and a float on the same line.\n",
    "\n",
    "# print(\"\\n\\n\\nTest Code\\t\\t\"+total)\n"
   ]
  },
  {
   "cell_type": "markdown",
   "id": "14d52f5f",
   "metadata": {},
   "source": [
    "# 4. Write a Car Salesman program where the user enters the base price of a car. The program should add on a bunch of extra fees such as tax, license, dealer prep, and destination charge. Make tax and license a percent of the base price. The other fees should be set values. Display the actual price of the car once all the extras are applied."
   ]
  },
  {
   "cell_type": "code",
   "execution_count": 15,
   "id": "f7392b96",
   "metadata": {},
   "outputs": [
    {
     "name": "stdout",
     "output_type": "stream",
     "text": [
      "Enter the base price of a car: $65344.43\n",
      "\n",
      "\n",
      "Base Price of Car.................... $65,344.43\n",
      "\n",
      "Taxes............................. $5,390.92\n",
      "License........................... $3,267.22\n",
      "Dealer Prep....................... $299.99\n",
      "Destination Charge................ $19.99\n",
      "\n",
      "Actual Price of the car.................. $74,322.55\n"
     ]
    }
   ],
   "source": [
    "# Car Fees\n",
    "\n",
    "# Emilie Helen Wolf\n",
    "# July 29, 2021\n",
    "\n",
    "TAX = .0825\n",
    "LIC = .05\n",
    "PREP = 299.99\n",
    "DEST = 19.99\n",
    "\n",
    "\n",
    "while True:\n",
    "    try:\n",
    "        base_price = float(input(\"Enter the base price of a car: $\"))\n",
    "    except:\n",
    "        print(\"\\nThat was an invalid amount. Please try again.\\n\")\n",
    "        continue\n",
    "    else:\n",
    "        break\n",
    "        \n",
    "print(\"\\n\\nBase Price of Car.................... ${:,.2f}\".format(base_price))\n",
    "print()\n",
    "print(\"Taxes............................. ${:,.2f}\".format(base_price*TAX))\n",
    "print(\"License........................... ${:,.2f}\".format(base_price*LIC))\n",
    "print(\"Dealer Prep....................... ${:,.2f}\".format(PREP))\n",
    "print(\"Destination Charge................ ${:,.2f}\".format(DEST))\n",
    "print()\n",
    "print(\"Actual Price of the car.................. ${:,.2f}\".format(PREP+DEST+(base_price*TAX)+(base_price*LIC)+base_price))"
   ]
  }
 ],
 "metadata": {
  "kernelspec": {
   "display_name": "Python 3",
   "language": "python",
   "name": "python3"
  },
  "language_info": {
   "codemirror_mode": {
    "name": "ipython",
    "version": 3
   },
   "file_extension": ".py",
   "mimetype": "text/x-python",
   "name": "python",
   "nbconvert_exporter": "python",
   "pygments_lexer": "ipython3",
   "version": "3.8.8"
  }
 },
 "nbformat": 4,
 "nbformat_minor": 5
}
